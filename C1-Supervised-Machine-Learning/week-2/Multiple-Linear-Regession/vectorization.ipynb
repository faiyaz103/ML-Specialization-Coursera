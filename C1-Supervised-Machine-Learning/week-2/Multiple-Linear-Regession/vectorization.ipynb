{
 "cells": [
  {
   "cell_type": "markdown",
   "id": "75fe0255",
   "metadata": {},
   "source": [
    "## Vectorization"
   ]
  },
  {
   "cell_type": "code",
   "execution_count": 34,
   "id": "a1a91bff",
   "metadata": {},
   "outputs": [],
   "source": [
    "import numpy as np"
   ]
  },
  {
   "cell_type": "markdown",
   "id": "ef9b50e7",
   "metadata": {},
   "source": [
    "### Single vector operations"
   ]
  },
  {
   "cell_type": "code",
   "execution_count": 35,
   "id": "df332522",
   "metadata": {},
   "outputs": [
    {
     "name": "stdout",
     "output_type": "stream",
     "text": [
      "a:  [1 2 3 4]\n",
      "b=-a:   [-1 -2 -3 -4]\n",
      "np.sum(a):  10\n",
      "np.mean(a):  2.5\n",
      "a**2:  [ 1  4  9 16]\n"
     ]
    }
   ],
   "source": [
    "a=np.array([1,2,3,4])\n",
    "print(f\"a:  {a}\")\n",
    "\n",
    "# neget elements of a\n",
    "b=-a\n",
    "print(f\"b=-a:   {b}\")\n",
    "\n",
    "# Sum all elements of a returns scaler\n",
    "b=np.sum(a)\n",
    "print(f\"np.sum(a):  {b}\")\n",
    "\n",
    "b=np.mean(a)\n",
    "print(f\"np.mean(a):  {b}\")\n",
    "\n",
    "b=a**2\n",
    "print(f\"a**2:  {b}\")"
   ]
  },
  {
   "cell_type": "markdown",
   "id": "39df6a76",
   "metadata": {},
   "source": [
    "### Vector Vector element-wise operations "
   ]
  },
  {
   "cell_type": "code",
   "execution_count": 36,
   "id": "578a7c0d",
   "metadata": {},
   "outputs": [
    {
     "name": "stdout",
     "output_type": "stream",
     "text": [
      "a+b = [0 0 6 8]\n"
     ]
    }
   ],
   "source": [
    "a=np.array([1,2,3,4])  \n",
    "b=np.array([-1,-2,3,4])\n",
    "\n",
    "print(f\"a+b = {a+b}\")"
   ]
  },
  {
   "cell_type": "markdown",
   "id": "ea762701",
   "metadata": {},
   "source": [
    "Vetors must be of the same size"
   ]
  },
  {
   "cell_type": "code",
   "execution_count": 37,
   "id": "295da9eb",
   "metadata": {},
   "outputs": [
    {
     "name": "stdout",
     "output_type": "stream",
     "text": [
      "The eror is: operands could not be broadcast together with shapes (4,) (2,) \n"
     ]
    }
   ],
   "source": [
    "c=np.array([6,7])\n",
    "\n",
    "try:\n",
    "    d=b+c\n",
    "except Exception as e:\n",
    "    print(f\"The eror is: {e}\")"
   ]
  },
  {
   "cell_type": "markdown",
   "id": "0d8c82e2",
   "metadata": {},
   "source": [
    "### Scalar vector operations"
   ]
  },
  {
   "cell_type": "code",
   "execution_count": 38,
   "id": "82efcf84",
   "metadata": {},
   "outputs": [
    {
     "name": "stdout",
     "output_type": "stream",
     "text": [
      "5 * a: [ 5 10 15 20]\n"
     ]
    }
   ],
   "source": [
    "# Multiply a by a scalar\n",
    "b=5*a\n",
    "print(f\"5 * a: {b}\")"
   ]
  },
  {
   "cell_type": "markdown",
   "id": "c849a826",
   "metadata": {},
   "source": [
    "### Vector vector dot product"
   ]
  },
  {
   "cell_type": "code",
   "execution_count": 39,
   "id": "911703f4",
   "metadata": {},
   "outputs": [
    {
     "name": "stdout",
     "output_type": "stream",
     "text": [
      "dot product is: 30\n"
     ]
    }
   ],
   "source": [
    "a=np.array([1,2,3,4])\n",
    "b=np.array([1,2,3,4])\n",
    "c=np.dot(a,b)\n",
    "\n",
    "print(f\"dot product is: {c}\")"
   ]
  },
  {
   "cell_type": "markdown",
   "id": "ff236370",
   "metadata": {},
   "source": [
    "### Vector vs for loop"
   ]
  },
  {
   "cell_type": "code",
   "execution_count": 40,
   "id": "20025c21",
   "metadata": {},
   "outputs": [
    {
     "name": "stdout",
     "output_type": "stream",
     "text": [
      "Using for loop the dot product is: 2501072.5817 and duration: 7430.4335 ms\n",
      "Using vector operation the dot product is: 2501072.5817 and duration: 0.0000 ms\n"
     ]
    }
   ],
   "source": [
    "import time\n",
    "# Setting the seed makes the sequence of random numbers deterministic — \n",
    "# meaning, you'll get the same sequence of numbers every time you run the code.\n",
    "# use any integer value (like 0, 42, 123, etc.). Each seed value gives a \n",
    "# different repeatable sequence of \"random\" numbers.\n",
    "np.random.seed(1)\n",
    "\n",
    "a=np.random.rand(10000000)\n",
    "b=np.random.rand(10000000)\n",
    "\n",
    "# using for loop\n",
    "dot=0\n",
    "tic=time.time() # Get start time\n",
    "for i in range(a.shape[0]):\n",
    "    dot+=a[i]*b[i]\n",
    "toc=time.time() # get end time\n",
    "\n",
    "print(f\"Using for loop the dot product is: {dot:.4f} and duration: {1000*(toc-tic):.4f} ms\")\n",
    "\n",
    "# Using vector operation\n",
    "tic=time.time() # Get start time\n",
    "dot=np.dot(a,b)\n",
    "toc=time.time() # get end time\n",
    "\n",
    "print(f\"Using vector operation the dot product is: {dot:.4f} and duration: {1000*(toc-tic):.4f} ms\")\n",
    "\n",
    "# Remove these big arrays from memory\n",
    "del(a)\n",
    "del(b)"
   ]
  },
  {
   "cell_type": "markdown",
   "id": "dd3adbb5",
   "metadata": {},
   "source": [
    "## Matrices"
   ]
  },
  {
   "cell_type": "markdown",
   "id": "a35776f6",
   "metadata": {},
   "source": [
    "### Matrix creation"
   ]
  },
  {
   "cell_type": "code",
   "execution_count": 41,
   "id": "ae626d83",
   "metadata": {},
   "outputs": [
    {
     "name": "stdout",
     "output_type": "stream",
     "text": [
      "Shape of a: (1, 5), a=[[0. 0. 0. 0. 0.]]\n",
      "Shape of a: (2, 1), a=[[0.]\n",
      " [0.]]\n",
      "Shape of a: (2, 3), a=[[0.44236513 0.04997798 0.77390955]\n",
      " [0.93782363 0.5792328  0.53516563]]\n"
     ]
    }
   ],
   "source": [
    "a=np.zeros((1,5))\n",
    "print(f\"Shape of a: {a.shape}, a={a}\")\n",
    "\n",
    "a=np.zeros((2,1))\n",
    "print(f\"Shape of a: {a.shape}, a={a}\")\n",
    "\n",
    "a=np.random.random_sample((2,3))\n",
    "print(f\"Shape of a: {a.shape}, a={a}\")"
   ]
  },
  {
   "cell_type": "markdown",
   "id": "a5416f31",
   "metadata": {},
   "source": [
    "Create manually"
   ]
  },
  {
   "cell_type": "code",
   "execution_count": 42,
   "id": "100ffd6b",
   "metadata": {},
   "outputs": [
    {
     "name": "stdout",
     "output_type": "stream",
     "text": [
      "Shape of a: (3, 1), a=[[3]\n",
      " [2]\n",
      " [1]]\n"
     ]
    }
   ],
   "source": [
    "a=np.array([[3],\n",
    "            [2],\n",
    "            [1]])\n",
    "print(f\"Shape of a: {a.shape}, a={a}\")"
   ]
  },
  {
   "cell_type": "markdown",
   "id": "d356c0db",
   "metadata": {},
   "source": [
    "### Matrix Indexing"
   ]
  },
  {
   "cell_type": "code",
   "execution_count": 43,
   "id": "4976204f",
   "metadata": {},
   "outputs": [
    {
     "name": "stdout",
     "output_type": "stream",
     "text": [
      "a.shape: (3, 2), \ta= [[0 1]\n",
      " [2 3]\n",
      " [4 5]]\n",
      "a[2,0].shape: (), \ta[2,0]= 4\n",
      "a[2].shape: (2,), \ta[2]= [4 5]\n"
     ]
    }
   ],
   "source": [
    "a=np.arange(6).reshape(-1,2) # Column specified, row will be calculated\n",
    "print(f\"a.shape: {a.shape}, \\ta= {a}\")\n",
    "\n",
    "#access an element\n",
    "print(f\"a[2,0].shape: {a[2,0].shape}, \\ta[2,0]= {a[2,0]}\")\n",
    "\n",
    "#access a row\n",
    "print(f\"a[2].shape: {a[2].shape}, \\ta[2]= {a[2]}\")"
   ]
  },
  {
   "cell_type": "markdown",
   "id": "6cd0b4b5",
   "metadata": {},
   "source": [
    "### Matrix Slicing"
   ]
  },
  {
   "cell_type": "code",
   "execution_count": 44,
   "id": "d95b33e5",
   "metadata": {},
   "outputs": [
    {
     "name": "stdout",
     "output_type": "stream",
     "text": [
      "a= [[ 0  1  2  3  4  5  6  7  8  9]\n",
      " [10 11 12 13 14 15 16 17 18 19]]\n",
      "a[0, 2:7:1] = [2 3 4 5 6], \ta[0, 2:7:1].shape= (5,)\n",
      "a[1, 2:7:1] = [12 13 14 15 16], \ta[1, 2:7:1].shape= (5,)\n",
      "a[:,:] = [[ 0  1  2  3  4  5  6  7  8  9]\n",
      " [10 11 12 13 14 15 16 17 18 19]], \ta[:,:].shape= (2, 10)\n",
      "a[1,:] = [10 11 12 13 14 15 16 17 18 19], \ta[1,:].shape= (10,)\n",
      "a[1] = [10 11 12 13 14 15 16 17 18 19], \ta[1].shape= (10,)\n"
     ]
    }
   ],
   "source": [
    "# Vector 2D slicing operations\n",
    "a=np.arange(20).reshape(-1,10)\n",
    "print(f\"a= {a}\")\n",
    "\n",
    "# start:stop:step\n",
    "# Acces 5 consecutive elements from first row\n",
    "print(f\"a[0, 2:7:1] = {a[0,2:7:1]}, \\ta[0, 2:7:1].shape= {a[0, 2:7:1].shape}\")\n",
    "# Acces 5 consecutive elements from second row\n",
    "print(f\"a[1, 2:7:1] = {a[1,2:7:1]}, \\ta[1, 2:7:1].shape= {a[1, 2:7:1].shape}\")\n",
    "\n",
    "# Access all elemts\n",
    "print(f\"a[:,:] = {a[:,:]}, \\ta[:,:].shape= {a[:,:].shape}\")\n",
    "\n",
    "# Access all elements of a single row\n",
    "print(f\"a[1,:] = {a[1,:]}, \\ta[1,:].shape= {a[1,:].shape}\")\n",
    "# same as\n",
    "print(f\"a[1] = {a[1]}, \\ta[1].shape= {a[1].shape}\")"
   ]
  }
 ],
 "metadata": {
  "kernelspec": {
   "display_name": "base",
   "language": "python",
   "name": "python3"
  },
  "language_info": {
   "codemirror_mode": {
    "name": "ipython",
    "version": 3
   },
   "file_extension": ".py",
   "mimetype": "text/x-python",
   "name": "python",
   "nbconvert_exporter": "python",
   "pygments_lexer": "ipython3",
   "version": "3.12.7"
  }
 },
 "nbformat": 4,
 "nbformat_minor": 5
}
