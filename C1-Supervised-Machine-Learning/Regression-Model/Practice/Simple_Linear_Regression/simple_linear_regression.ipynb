{
 "cells": [
  {
   "cell_type": "markdown",
   "id": "45a1b8fc",
   "metadata": {},
   "source": [
    "## Let's predict salary for a random years of experience\n",
    "### We have 2 columns here, YearsExperience and Salary"
   ]
  },
  {
   "cell_type": "markdown",
   "id": "27fe06a5",
   "metadata": {},
   "source": [
    "Process data fromm csv"
   ]
  },
  {
   "cell_type": "code",
   "execution_count": 1,
   "id": "7619048a",
   "metadata": {},
   "outputs": [
    {
     "name": "stdout",
     "output_type": "stream",
     "text": [
      "   YearsExperience   Salary\n",
      "0              1.2  39344.0\n",
      "1              1.4  46206.0\n",
      "2              1.6  37732.0\n",
      "3              2.1  43526.0\n",
      "4              2.3  39892.0\n",
      "5              3.0  56643.0\n",
      "6              3.1  60151.0\n",
      "7              3.3  54446.0\n",
      "8              3.3  64446.0\n",
      "9              3.8  57190.0\n"
     ]
    }
   ],
   "source": [
    "import numpy as np\n",
    "import pandas as pd\n",
    "import matplotlib.pyplot as plt\n",
    "\n",
    "df=pd.read_csv('Salary_dataset.csv')\n",
    "print(df[['YearsExperience', 'Salary']].head(10))\n",
    "\n",
    "x=df['YearsExperience'].to_numpy()\n",
    "y=df['Salary'].to_numpy()"
   ]
  },
  {
   "cell_type": "markdown",
   "id": "9499bb06",
   "metadata": {},
   "source": [
    "Define training example size"
   ]
  },
  {
   "cell_type": "code",
   "execution_count": 2,
   "id": "c94d2cf8",
   "metadata": {},
   "outputs": [
    {
     "name": "stdout",
     "output_type": "stream",
     "text": [
      "Size of the training set is: 30\n"
     ]
    }
   ],
   "source": [
    "m=x.shape[0]\n",
    "print(f\"Size of the training set is: {m}\")"
   ]
  },
  {
   "cell_type": "markdown",
   "id": "c1d85ec4",
   "metadata": {},
   "source": [
    "Define cost function"
   ]
  },
  {
   "cell_type": "code",
   "execution_count": 3,
   "id": "31c181ec",
   "metadata": {},
   "outputs": [],
   "source": [
    "def cost_function(w,b):\n",
    "    cost=0\n",
    "    for i in range(m):\n",
    "        cost+=(w*x[i]+b-y[i])**2\n",
    "    \n",
    "    totalCost=cost/(2*m)\n",
    "    return totalCost"
   ]
  },
  {
   "cell_type": "markdown",
   "id": "59d9728c",
   "metadata": {},
   "source": [
    "Calculate derivatives for gradient descent"
   ]
  },
  {
   "cell_type": "code",
   "execution_count": 4,
   "id": "4e6dfe4c",
   "metadata": {},
   "outputs": [],
   "source": [
    "def derivatives(w,b):\n",
    "    dj_dw=0\n",
    "    dj_db=0\n",
    "\n",
    "    for i in range(m):\n",
    "        dj_dw+=(w*x[i]+b-y[i])*x[i]\n",
    "        dj_db+=(w*x[i]+b-y[i])\n",
    "\n",
    "    dj_dw/=m\n",
    "    dj_db/=m\n",
    "\n",
    "    return dj_dw, dj_db"
   ]
  },
  {
   "cell_type": "markdown",
   "id": "bc83fe23",
   "metadata": {},
   "source": [
    "Calculate gradient descent"
   ]
  },
  {
   "cell_type": "code",
   "execution_count": 5,
   "id": "f64e87f3",
   "metadata": {},
   "outputs": [],
   "source": [
    "import math\n",
    "\n",
    "def gradient_descent(w,b,alpha,iterLimit):\n",
    "\n",
    "    for i in range(iterLimit):\n",
    "\n",
    "        dj_dw, dj_db=derivatives(w,b)\n",
    "\n",
    "        w=w-alpha*dj_dw\n",
    "        b=b-alpha*dj_db\n",
    "\n",
    "        if i<10000:\n",
    "            cost=cost_function(w,b)\n",
    "\n",
    "        if i%math.ceil(iterLimit/100)==0:\n",
    "            print(f\"Iteration: {i:5} Cost: {cost: 0.3e}\",\n",
    "                  f\"Weight: {w: 0.3e} Bias: {b: 0.3e}\")\n",
    "            \n",
    "    return w,b\n",
    "\n"
   ]
  },
  {
   "cell_type": "markdown",
   "id": "8a86b917",
   "metadata": {},
   "source": [
    "initialize parameters"
   ]
  },
  {
   "cell_type": "code",
   "execution_count": 6,
   "id": "8392390a",
   "metadata": {},
   "outputs": [
    {
     "name": "stdout",
     "output_type": "stream",
     "text": [
      "Iteration:     0 Cost:  1.298e+09 Weight:  4.850e+03 Bias:  7.600e+02\n",
      "Iteration:  1000 Cost:  1.654e+07 Weight:  9.880e+03 Bias:  2.192e+04\n",
      "Iteration:  2000 Cost:  1.565e+07 Weight:  9.505e+03 Bias:  2.447e+04\n",
      "Iteration:  3000 Cost:  1.564e+07 Weight:  9.457e+03 Bias:  2.480e+04\n",
      "Iteration:  4000 Cost:  1.564e+07 Weight:  9.451e+03 Bias:  2.484e+04\n",
      "Iteration:  5000 Cost:  1.564e+07 Weight:  9.450e+03 Bias:  2.485e+04\n",
      "Iteration:  6000 Cost:  1.564e+07 Weight:  9.450e+03 Bias:  2.485e+04\n",
      "Iteration:  7000 Cost:  1.564e+07 Weight:  9.450e+03 Bias:  2.485e+04\n",
      "Iteration:  8000 Cost:  1.564e+07 Weight:  9.450e+03 Bias:  2.485e+04\n",
      "Iteration:  9000 Cost:  1.564e+07 Weight:  9.450e+03 Bias:  2.485e+04\n",
      "Iteration: 10000 Cost:  1.564e+07 Weight:  9.450e+03 Bias:  2.485e+04\n",
      "Iteration: 11000 Cost:  1.564e+07 Weight:  9.450e+03 Bias:  2.485e+04\n",
      "Iteration: 12000 Cost:  1.564e+07 Weight:  9.450e+03 Bias:  2.485e+04\n",
      "Iteration: 13000 Cost:  1.564e+07 Weight:  9.450e+03 Bias:  2.485e+04\n",
      "Iteration: 14000 Cost:  1.564e+07 Weight:  9.450e+03 Bias:  2.485e+04\n",
      "Iteration: 15000 Cost:  1.564e+07 Weight:  9.450e+03 Bias:  2.485e+04\n",
      "Iteration: 16000 Cost:  1.564e+07 Weight:  9.450e+03 Bias:  2.485e+04\n",
      "Iteration: 17000 Cost:  1.564e+07 Weight:  9.450e+03 Bias:  2.485e+04\n",
      "Iteration: 18000 Cost:  1.564e+07 Weight:  9.450e+03 Bias:  2.485e+04\n",
      "Iteration: 19000 Cost:  1.564e+07 Weight:  9.450e+03 Bias:  2.485e+04\n",
      "Iteration: 20000 Cost:  1.564e+07 Weight:  9.450e+03 Bias:  2.485e+04\n",
      "Iteration: 21000 Cost:  1.564e+07 Weight:  9.450e+03 Bias:  2.485e+04\n",
      "Iteration: 22000 Cost:  1.564e+07 Weight:  9.450e+03 Bias:  2.485e+04\n",
      "Iteration: 23000 Cost:  1.564e+07 Weight:  9.450e+03 Bias:  2.485e+04\n",
      "Iteration: 24000 Cost:  1.564e+07 Weight:  9.450e+03 Bias:  2.485e+04\n",
      "Iteration: 25000 Cost:  1.564e+07 Weight:  9.450e+03 Bias:  2.485e+04\n",
      "Iteration: 26000 Cost:  1.564e+07 Weight:  9.450e+03 Bias:  2.485e+04\n",
      "Iteration: 27000 Cost:  1.564e+07 Weight:  9.450e+03 Bias:  2.485e+04\n",
      "Iteration: 28000 Cost:  1.564e+07 Weight:  9.450e+03 Bias:  2.485e+04\n",
      "Iteration: 29000 Cost:  1.564e+07 Weight:  9.450e+03 Bias:  2.485e+04\n",
      "Iteration: 30000 Cost:  1.564e+07 Weight:  9.450e+03 Bias:  2.485e+04\n",
      "Iteration: 31000 Cost:  1.564e+07 Weight:  9.450e+03 Bias:  2.485e+04\n",
      "Iteration: 32000 Cost:  1.564e+07 Weight:  9.450e+03 Bias:  2.485e+04\n",
      "Iteration: 33000 Cost:  1.564e+07 Weight:  9.450e+03 Bias:  2.485e+04\n",
      "Iteration: 34000 Cost:  1.564e+07 Weight:  9.450e+03 Bias:  2.485e+04\n",
      "Iteration: 35000 Cost:  1.564e+07 Weight:  9.450e+03 Bias:  2.485e+04\n",
      "Iteration: 36000 Cost:  1.564e+07 Weight:  9.450e+03 Bias:  2.485e+04\n",
      "Iteration: 37000 Cost:  1.564e+07 Weight:  9.450e+03 Bias:  2.485e+04\n",
      "Iteration: 38000 Cost:  1.564e+07 Weight:  9.450e+03 Bias:  2.485e+04\n",
      "Iteration: 39000 Cost:  1.564e+07 Weight:  9.450e+03 Bias:  2.485e+04\n",
      "Iteration: 40000 Cost:  1.564e+07 Weight:  9.450e+03 Bias:  2.485e+04\n",
      "Iteration: 41000 Cost:  1.564e+07 Weight:  9.450e+03 Bias:  2.485e+04\n",
      "Iteration: 42000 Cost:  1.564e+07 Weight:  9.450e+03 Bias:  2.485e+04\n",
      "Iteration: 43000 Cost:  1.564e+07 Weight:  9.450e+03 Bias:  2.485e+04\n",
      "Iteration: 44000 Cost:  1.564e+07 Weight:  9.450e+03 Bias:  2.485e+04\n",
      "Iteration: 45000 Cost:  1.564e+07 Weight:  9.450e+03 Bias:  2.485e+04\n",
      "Iteration: 46000 Cost:  1.564e+07 Weight:  9.450e+03 Bias:  2.485e+04\n",
      "Iteration: 47000 Cost:  1.564e+07 Weight:  9.450e+03 Bias:  2.485e+04\n",
      "Iteration: 48000 Cost:  1.564e+07 Weight:  9.450e+03 Bias:  2.485e+04\n",
      "Iteration: 49000 Cost:  1.564e+07 Weight:  9.450e+03 Bias:  2.485e+04\n",
      "Iteration: 50000 Cost:  1.564e+07 Weight:  9.450e+03 Bias:  2.485e+04\n",
      "Iteration: 51000 Cost:  1.564e+07 Weight:  9.450e+03 Bias:  2.485e+04\n",
      "Iteration: 52000 Cost:  1.564e+07 Weight:  9.450e+03 Bias:  2.485e+04\n",
      "Iteration: 53000 Cost:  1.564e+07 Weight:  9.450e+03 Bias:  2.485e+04\n",
      "Iteration: 54000 Cost:  1.564e+07 Weight:  9.450e+03 Bias:  2.485e+04\n",
      "Iteration: 55000 Cost:  1.564e+07 Weight:  9.450e+03 Bias:  2.485e+04\n",
      "Iteration: 56000 Cost:  1.564e+07 Weight:  9.450e+03 Bias:  2.485e+04\n",
      "Iteration: 57000 Cost:  1.564e+07 Weight:  9.450e+03 Bias:  2.485e+04\n",
      "Iteration: 58000 Cost:  1.564e+07 Weight:  9.450e+03 Bias:  2.485e+04\n",
      "Iteration: 59000 Cost:  1.564e+07 Weight:  9.450e+03 Bias:  2.485e+04\n",
      "Iteration: 60000 Cost:  1.564e+07 Weight:  9.450e+03 Bias:  2.485e+04\n",
      "Iteration: 61000 Cost:  1.564e+07 Weight:  9.450e+03 Bias:  2.485e+04\n",
      "Iteration: 62000 Cost:  1.564e+07 Weight:  9.450e+03 Bias:  2.485e+04\n",
      "Iteration: 63000 Cost:  1.564e+07 Weight:  9.450e+03 Bias:  2.485e+04\n",
      "Iteration: 64000 Cost:  1.564e+07 Weight:  9.450e+03 Bias:  2.485e+04\n",
      "Iteration: 65000 Cost:  1.564e+07 Weight:  9.450e+03 Bias:  2.485e+04\n",
      "Iteration: 66000 Cost:  1.564e+07 Weight:  9.450e+03 Bias:  2.485e+04\n",
      "Iteration: 67000 Cost:  1.564e+07 Weight:  9.450e+03 Bias:  2.485e+04\n",
      "Iteration: 68000 Cost:  1.564e+07 Weight:  9.450e+03 Bias:  2.485e+04\n",
      "Iteration: 69000 Cost:  1.564e+07 Weight:  9.450e+03 Bias:  2.485e+04\n",
      "Iteration: 70000 Cost:  1.564e+07 Weight:  9.450e+03 Bias:  2.485e+04\n",
      "Iteration: 71000 Cost:  1.564e+07 Weight:  9.450e+03 Bias:  2.485e+04\n",
      "Iteration: 72000 Cost:  1.564e+07 Weight:  9.450e+03 Bias:  2.485e+04\n",
      "Iteration: 73000 Cost:  1.564e+07 Weight:  9.450e+03 Bias:  2.485e+04\n",
      "Iteration: 74000 Cost:  1.564e+07 Weight:  9.450e+03 Bias:  2.485e+04\n",
      "Iteration: 75000 Cost:  1.564e+07 Weight:  9.450e+03 Bias:  2.485e+04\n",
      "Iteration: 76000 Cost:  1.564e+07 Weight:  9.450e+03 Bias:  2.485e+04\n",
      "Iteration: 77000 Cost:  1.564e+07 Weight:  9.450e+03 Bias:  2.485e+04\n",
      "Iteration: 78000 Cost:  1.564e+07 Weight:  9.450e+03 Bias:  2.485e+04\n",
      "Iteration: 79000 Cost:  1.564e+07 Weight:  9.450e+03 Bias:  2.485e+04\n",
      "Iteration: 80000 Cost:  1.564e+07 Weight:  9.450e+03 Bias:  2.485e+04\n",
      "Iteration: 81000 Cost:  1.564e+07 Weight:  9.450e+03 Bias:  2.485e+04\n",
      "Iteration: 82000 Cost:  1.564e+07 Weight:  9.450e+03 Bias:  2.485e+04\n",
      "Iteration: 83000 Cost:  1.564e+07 Weight:  9.450e+03 Bias:  2.485e+04\n",
      "Iteration: 84000 Cost:  1.564e+07 Weight:  9.450e+03 Bias:  2.485e+04\n",
      "Iteration: 85000 Cost:  1.564e+07 Weight:  9.450e+03 Bias:  2.485e+04\n",
      "Iteration: 86000 Cost:  1.564e+07 Weight:  9.450e+03 Bias:  2.485e+04\n",
      "Iteration: 87000 Cost:  1.564e+07 Weight:  9.450e+03 Bias:  2.485e+04\n",
      "Iteration: 88000 Cost:  1.564e+07 Weight:  9.450e+03 Bias:  2.485e+04\n",
      "Iteration: 89000 Cost:  1.564e+07 Weight:  9.450e+03 Bias:  2.485e+04\n",
      "Iteration: 90000 Cost:  1.564e+07 Weight:  9.450e+03 Bias:  2.485e+04\n",
      "Iteration: 91000 Cost:  1.564e+07 Weight:  9.450e+03 Bias:  2.485e+04\n",
      "Iteration: 92000 Cost:  1.564e+07 Weight:  9.450e+03 Bias:  2.485e+04\n",
      "Iteration: 93000 Cost:  1.564e+07 Weight:  9.450e+03 Bias:  2.485e+04\n",
      "Iteration: 94000 Cost:  1.564e+07 Weight:  9.450e+03 Bias:  2.485e+04\n",
      "Iteration: 95000 Cost:  1.564e+07 Weight:  9.450e+03 Bias:  2.485e+04\n",
      "Iteration: 96000 Cost:  1.564e+07 Weight:  9.450e+03 Bias:  2.485e+04\n",
      "Iteration: 97000 Cost:  1.564e+07 Weight:  9.450e+03 Bias:  2.485e+04\n",
      "Iteration: 98000 Cost:  1.564e+07 Weight:  9.450e+03 Bias:  2.485e+04\n",
      "Iteration: 99000 Cost:  1.564e+07 Weight:  9.450e+03 Bias:  2.485e+04\n",
      "w =  9449.9623 and b =  24848.2040\n"
     ]
    }
   ],
   "source": [
    "w_init=0\n",
    "b_init=0\n",
    "alpha=1.0e-2\n",
    "\n",
    "w,b=gradient_descent(w_init,b_init,alpha,100000)\n",
    "\n",
    "print(f\"w = {w: 8.4f} and b = {b: 8.4f}\")"
   ]
  },
  {
   "cell_type": "markdown",
   "id": "56434f8b",
   "metadata": {},
   "source": [
    "Predict Salary for some year experiences"
   ]
  },
  {
   "cell_type": "code",
   "execution_count": 7,
   "id": "4c7c3ec7",
   "metadata": {},
   "outputs": [
    {
     "name": "stdout",
     "output_type": "stream",
     "text": [
      "For 6.6 years of experience your salary might be 87217.95528812667\n"
     ]
    }
   ],
   "source": [
    "xnew=6.6\n",
    "ypred=w*xnew+b\n",
    "\n",
    "print(f\"For {xnew} years of experience your salary might be {ypred}\")"
   ]
  },
  {
   "cell_type": "markdown",
   "id": "33be543b",
   "metadata": {},
   "source": [
    "## Comparison"
   ]
  },
  {
   "cell_type": "code",
   "execution_count": 8,
   "id": "bc6d5da0",
   "metadata": {},
   "outputs": [
    {
     "data": {
      "image/png": "[encoded data removed]",
      "text/plain": [
       "<Figure size 640x480 with 1 Axes>"
      ]
     },
     "metadata": {},
     "output_type": "display_data"
    }
   ],
   "source": [
    "ypred=np.zeros_like(x)\n",
    "for i in range(m):\n",
    "    ypred[i]=w*x[i]+b\n",
    "\n",
    "plt.scatter(x,y,c='b',label='From training set')\n",
    "plt.plot(x,ypred,c='r',label='Our prediction')\n",
    "plt.xlabel('Years of experience')\n",
    "plt.ylabel('Salary')\n",
    "plt.legend()\n",
    "plt.show()"
   ]
  }
 ],
 "metadata": {
  "kernelspec": {
   "display_name": "base",
   "language": "python",
   "name": "python3"
  },
  "language_info": {
   "codemirror_mode": {
    "name": "ipython",
    "version": 3
   },
   "file_extension": ".py",
   "mimetype": "text/x-python",
   "name": "python",
   "nbconvert_exporter": "python",
   "pygments_lexer": "ipython3",
   "version": "3.12.7"
  }
 },
 "nbformat": 4,
 "nbformat_minor": 5
}
