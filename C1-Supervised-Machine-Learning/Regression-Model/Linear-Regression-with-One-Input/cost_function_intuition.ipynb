{
 "cells": [
  {
   "cell_type": "markdown",
   "id": "3b5a82aa",
   "metadata": {},
   "source": [
    "## Cost function intuition\n",
    "$\\hat{y}$ = Estimate/Prediction for y\n",
    "### Model\n",
    "$f_{w,b}(x^{(i)}) = wx^{(i)} + b = \\hat{y}^{(i)}$\n",
    "### Cost function\n",
    "$j_{(w,b)} = \\frac{1}{2m}\\sum\\limits_{1}^{m}(\\hat{y}^{(i)} - y^{(i)})^{2} $"
   ]
  },
  {
   "cell_type": "markdown",
   "id": "4c106373",
   "metadata": {},
   "source": [
    "Goal is to minimize j(w,b)"
   ]
  },
  {
   "cell_type": "markdown",
   "id": "0976a034",
   "metadata": {},
   "source": [
    "Define training set"
   ]
  },
  {
   "cell_type": "code",
   "execution_count": 4,
   "id": "e6cf0996",
   "metadata": {},
   "outputs": [
    {
     "name": "stdout",
     "output_type": "stream",
     "text": [
      "Features: [1 2 3]\n",
      "Targets: [1 2 3]\n",
      "   x  y\n",
      "0  1  1\n",
      "1  2  2\n",
      "2  3  3\n"
     ]
    }
   ],
   "source": [
    "import numpy as np\n",
    "import matplotlib.pyplot as plt\n",
    "import pandas as pd\n",
    "\n",
    "x=np.array([1,2,3])\n",
    "y=np.array([1,2,3])\n",
    "\n",
    "print(f\"Features: {x}\")\n",
    "print(f\"Targets: {y}\")\n",
    "\n",
    "data={\n",
    "    'x':x,\n",
    "    'y':y\n",
    "}\n",
    "print(pd.DataFrame(data))"
   ]
  },
  {
   "cell_type": "markdown",
   "id": "732d21fc",
   "metadata": {},
   "source": [
    "Define size of training set"
   ]
  },
  {
   "cell_type": "code",
   "execution_count": 5,
   "id": "498b218b",
   "metadata": {},
   "outputs": [
    {
     "name": "stdout",
     "output_type": "stream",
     "text": [
      "Size of the training set is 3\n"
     ]
    }
   ],
   "source": [
    "m=len(x)\n",
    "print(f\"Size of the training set is {m}\")"
   ]
  },
  {
   "cell_type": "markdown",
   "id": "f55a0d4b",
   "metadata": {},
   "source": [
    "Define model, for this example let's take b=0 and w=array of numbers"
   ]
  },
  {
   "cell_type": "code",
   "execution_count": 58,
   "id": "d7d38857",
   "metadata": {},
   "outputs": [
    {
     "name": "stdout",
     "output_type": "stream",
     "text": [
      "[  2   1  12 -18  16 -20  15  -2 -17  18]\n"
     ]
    }
   ],
   "source": [
    "# get 10 unique random numbers from -20 to 19\n",
    "w=np.random.choice(np.arange(-20,20), size=(10), replace=False)\n",
    "print(w)"
   ]
  },
  {
   "cell_type": "markdown",
   "id": "1a21f1c0",
   "metadata": {},
   "source": [
    "Now for each w and b: calculate each $\\hat{y}$, calculate sum of squared error, average sum of squared error, calculate cost function and keep values in an array"
   ]
  },
  {
   "cell_type": "code",
   "execution_count": 59,
   "id": "bfad8ff2",
   "metadata": {},
   "outputs": [
    {
     "name": "stdout",
     "output_type": "stream",
     "text": [
      "Sum of square error for w=2 is 14.0\n",
      "Average sum of square error for w=2 is 4.666666666666667\n",
      "Cost function for w=2 is 2.3333333333333335\n",
      ".....\n",
      "Sum of square error for w=1 is 0.0\n",
      "Average sum of square error for w=1 is 0.0\n",
      "Cost function for w=1 is 0.0\n",
      ".....\n",
      "Sum of square error for w=12 is 1694.0\n",
      "Average sum of square error for w=12 is 564.6666666666666\n",
      "Cost function for w=12 is 282.3333333333333\n",
      ".....\n",
      "Sum of square error for w=-18 is 5054.0\n",
      "Average sum of square error for w=-18 is 1684.6666666666667\n",
      "Cost function for w=-18 is 842.3333333333334\n",
      ".....\n",
      "Sum of square error for w=16 is 3150.0\n",
      "Average sum of square error for w=16 is 1050.0\n",
      "Cost function for w=16 is 525.0\n",
      ".....\n",
      "Sum of square error for w=-20 is 6174.0\n",
      "Average sum of square error for w=-20 is 2058.0\n",
      "Cost function for w=-20 is 1029.0\n",
      ".....\n",
      "Sum of square error for w=15 is 2744.0\n",
      "Average sum of square error for w=15 is 914.6666666666666\n",
      "Cost function for w=15 is 457.3333333333333\n",
      ".....\n",
      "Sum of square error for w=-2 is 126.0\n",
      "Average sum of square error for w=-2 is 42.0\n",
      "Cost function for w=-2 is 21.0\n",
      ".....\n",
      "Sum of square error for w=-17 is 4536.0\n",
      "Average sum of square error for w=-17 is 1512.0\n",
      "Cost function for w=-17 is 756.0\n",
      ".....\n",
      "Sum of square error for w=18 is 4046.0\n",
      "Average sum of square error for w=18 is 1348.6666666666667\n",
      "Cost function for w=18 is 674.3333333333334\n",
      ".....\n"
     ]
    }
   ],
   "source": [
    "b=0\n",
    "\n",
    "# Cost function array\n",
    "jwb=np.zeros(len(w))\n",
    "\n",
    "# Take each w\n",
    "for i in range(len(w)):\n",
    "    ycap=np.zeros(m)\n",
    "    # define sum of squared error\n",
    "    sumsqer=0\n",
    "    # Calculate each ycap for w\n",
    "    for j in range(m):\n",
    "        ycap[j]=w[i]*x[j] + b\n",
    "        # Calculate sum of squared error\n",
    "        sumsqer+=pow((ycap[j]-y[j]), 2)\n",
    "        \n",
    "    # print sum of sq error\n",
    "    print(f\"Sum of square error for w={w[i]} is {sumsqer}\")   \n",
    "    \n",
    "    # print avg sum of sq error\n",
    "    avgsumsqer=sumsqer/m\n",
    "    print(f\"Average sum of square error for w={w[i]} is {avgsumsqer}\")\n",
    "    \n",
    "    # Calculate cost function\n",
    "    jwb[i]=avgsumsqer/2\n",
    "    print(f\"Cost function for w={w[i]} is {jwb[i]}\")\n",
    "    print(\".....\")"
   ]
  },
  {
   "cell_type": "markdown",
   "id": "dfab3515",
   "metadata": {},
   "source": [
    "Find minimum j(w,b\n",
    "), it's index, from that index we can find best value for w"
   ]
  },
  {
   "cell_type": "code",
   "execution_count": 60,
   "id": "dcbdd6b2",
   "metadata": {},
   "outputs": [
    {
     "name": "stdout",
     "output_type": "stream",
     "text": [
      "The minimum cost function value is 0.0 at index 1\n",
      "For w=1 we get the minimum cost function value\n"
     ]
    }
   ],
   "source": [
    "minimum_costFunction=np.min(jwb)\n",
    "costFunctionIndex=np.argmin(jwb)\n",
    "print(f\"The minimum cost function value is {minimum_costFunction} at index {costFunctionIndex}\")\n",
    "\n",
    "print(f\"For w={w[costFunctionIndex]} we get the minimum cost function value\")"
   ]
  },
  {
   "cell_type": "markdown",
   "id": "240acb09",
   "metadata": {},
   "source": [
    "Plot w vs jwb"
   ]
  },
  {
   "cell_type": "code",
   "execution_count": 63,
   "id": "6e38b191",
   "metadata": {},
   "outputs": [
    {
     "data": {
      "image/png": "[encoded data removed]",
      "text/plain": [
       "<Figure size 640x480 with 1 Axes>"
      ]
     },
     "metadata": {},
     "output_type": "display_data"
    }
   ],
   "source": [
    "# To connect the points with a single smooth path, sort the data by w before plotting:\n",
    "\n",
    "sorted_indices=np.argsort(w)\n",
    "wsort=w[sorted_indices]\n",
    "jwbsort=jwb[sorted_indices]\n",
    "\n",
    "plt.plot(wsort,jwbsort,c='r',marker='o')\n",
    "plt.title('Relationship between w and jwb')\n",
    "plt.xlabel('w')\n",
    "plt.ylabel('jwb')\n",
    "plt.grid(linestyle='--')      \n",
    "plt.show()"
   ]
  }
 ],
 "metadata": {
  "kernelspec": {
   "display_name": "base",
   "language": "python",
   "name": "python3"
  },
  "language_info": {
   "codemirror_mode": {
    "name": "ipython",
    "version": 3
   },
   "file_extension": ".py",
   "mimetype": "text/x-python",
   "name": "python",
   "nbconvert_exporter": "python",
   "pygments_lexer": "ipython3",
   "version": "3.12.7"
  }
 },
 "nbformat": 4,
 "nbformat_minor": 5
}
